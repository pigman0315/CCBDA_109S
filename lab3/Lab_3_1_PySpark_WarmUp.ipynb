{
  "nbformat": 4,
  "nbformat_minor": 0,
  "metadata": {
    "kernelspec": {
      "display_name": "Python 3",
      "language": "python",
      "name": "python3"
    },
    "language_info": {
      "codemirror_mode": {
        "name": "ipython",
        "version": 3
      },
      "file_extension": ".py",
      "mimetype": "text/x-python",
      "name": "python",
      "nbconvert_exporter": "python",
      "pygments_lexer": "ipython3",
      "version": "3.5.2"
    },
    "colab": {
      "name": "Lab_3_1_PySpark_WarmUp.ipynb",
      "provenance": [],
      "collapsed_sections": []
    }
  },
  "cells": [
    {
      "cell_type": "markdown",
      "metadata": {
        "id": "FdyKnoNw_nYA"
      },
      "source": [
        "# Installation for Pyspark\n",
        "\n",
        "\n"
      ]
    },
    {
      "cell_type": "code",
      "metadata": {
        "id": "QMoro5Zl5bm9",
        "colab": {
          "base_uri": "https://localhost:8080/"
        },
        "outputId": "3da45cd9-792b-4597-e733-f052f8e0e4f3"
      },
      "source": [
        "!apt-get -y install openjdk-8-jre-headless\n",
        "!pip install pyspark\n",
        "\n",
        "# Check Point 1: 0.5 points"
      ],
      "execution_count": null,
      "outputs": [
        {
          "output_type": "stream",
          "text": [
            "Reading package lists... Done\n",
            "Building dependency tree       \n",
            "Reading state information... Done\n",
            "Suggested packages:\n",
            "  libnss-mdns fonts-dejavu-extra fonts-ipafont-gothic fonts-ipafont-mincho\n",
            "  fonts-wqy-microhei fonts-wqy-zenhei fonts-indic\n",
            "The following NEW packages will be installed:\n",
            "  openjdk-8-jre-headless\n",
            "0 upgraded, 1 newly installed, 0 to remove and 39 not upgraded.\n",
            "Need to get 28.2 MB of archives.\n",
            "After this operation, 104 MB of additional disk space will be used.\n",
            "Get:1 http://archive.ubuntu.com/ubuntu bionic-updates/universe amd64 openjdk-8-jre-headless amd64 8u292-b10-0ubuntu1~18.04 [28.2 MB]\n",
            "Fetched 28.2 MB in 1s (19.6 MB/s)\n",
            "Selecting previously unselected package openjdk-8-jre-headless:amd64.\n",
            "(Reading database ... 160772 files and directories currently installed.)\n",
            "Preparing to unpack .../openjdk-8-jre-headless_8u292-b10-0ubuntu1~18.04_amd64.deb ...\n",
            "Unpacking openjdk-8-jre-headless:amd64 (8u292-b10-0ubuntu1~18.04) ...\n",
            "Setting up openjdk-8-jre-headless:amd64 (8u292-b10-0ubuntu1~18.04) ...\n",
            "update-alternatives: using /usr/lib/jvm/java-8-openjdk-amd64/jre/bin/orbd to provide /usr/bin/orbd (orbd) in auto mode\n",
            "update-alternatives: using /usr/lib/jvm/java-8-openjdk-amd64/jre/bin/servertool to provide /usr/bin/servertool (servertool) in auto mode\n",
            "update-alternatives: using /usr/lib/jvm/java-8-openjdk-amd64/jre/bin/tnameserv to provide /usr/bin/tnameserv (tnameserv) in auto mode\n",
            "Collecting pyspark\n",
            "\u001b[?25l  Downloading https://files.pythonhosted.org/packages/89/db/e18cfd78e408de957821ec5ca56de1250645b05f8523d169803d8df35a64/pyspark-3.1.2.tar.gz (212.4MB)\n",
            "\u001b[K     |████████████████████████████████| 212.4MB 64kB/s \n",
            "\u001b[?25hCollecting py4j==0.10.9\n",
            "\u001b[?25l  Downloading https://files.pythonhosted.org/packages/9e/b6/6a4fb90cd235dc8e265a6a2067f2a2c99f0d91787f06aca4bcf7c23f3f80/py4j-0.10.9-py2.py3-none-any.whl (198kB)\n",
            "\u001b[K     |████████████████████████████████| 204kB 19.7MB/s \n",
            "\u001b[?25hBuilding wheels for collected packages: pyspark\n",
            "  Building wheel for pyspark (setup.py) ... \u001b[?25l\u001b[?25hdone\n",
            "  Created wheel for pyspark: filename=pyspark-3.1.2-py2.py3-none-any.whl size=212880768 sha256=6b2bd3f561c66529a540a75874aadc7d1b9e2ab5372fa1b87dd9f1975e0fb05e\n",
            "  Stored in directory: /root/.cache/pip/wheels/40/1b/2c/30f43be2627857ab80062bef1527c0128f7b4070b6b2d02139\n",
            "Successfully built pyspark\n",
            "Installing collected packages: py4j, pyspark\n",
            "Successfully installed py4j-0.10.9 pyspark-3.1.2\n"
          ],
          "name": "stdout"
        }
      ]
    },
    {
      "cell_type": "markdown",
      "metadata": {
        "id": "11GHuwQNNnOI"
      },
      "source": [
        "#### Start a simple Spark Session"
      ]
    },
    {
      "cell_type": "code",
      "metadata": {
        "id": "f-a5o5sQ_ZgF"
      },
      "source": [
        "import pyspark\n",
        "from pyspark.sql import SparkSession\n",
        "from pyspark.sql.types import StringType, StructType, IntegerType, StructField\n",
        "spark = SparkSession.builder.appName('Warmup').getOrCreate()"
      ],
      "execution_count": null,
      "outputs": []
    },
    {
      "cell_type": "markdown",
      "metadata": {
        "id": "k3JX8kmDNudQ"
      },
      "source": [
        "Data Schema"
      ]
    },
    {
      "cell_type": "code",
      "metadata": {
        "id": "3GY9sp5I5bnD"
      },
      "source": [
        "data_schema = [StructField('age',IntegerType(),True),\n",
        "               StructField('name',StringType(),True)]\n",
        "final_struc = StructType(fields=data_schema)"
      ],
      "execution_count": null,
      "outputs": []
    },
    {
      "cell_type": "markdown",
      "metadata": {
        "id": "9962yCcqODQY"
      },
      "source": [
        "Load the people.json gile, have Spark infer the data types."
      ]
    },
    {
      "cell_type": "code",
      "metadata": {
        "id": "mdXIPRDhNiqz"
      },
      "source": [
        "df = spark.read.json('people.json',schema=final_struc)"
      ],
      "execution_count": null,
      "outputs": []
    },
    {
      "cell_type": "markdown",
      "metadata": {
        "id": "xhbCvaK3O0Kc"
      },
      "source": [
        "#### What are the column names?"
      ]
    },
    {
      "cell_type": "code",
      "metadata": {
        "id": "6Hj4NFfg5bnE",
        "colab": {
          "base_uri": "https://localhost:8080/"
        },
        "outputId": "18e2bef6-a3e9-427c-b911-807cf0ed7b77"
      },
      "source": [
        "df.columns"
      ],
      "execution_count": null,
      "outputs": [
        {
          "output_type": "execute_result",
          "data": {
            "text/plain": [
              "['age', 'name']"
            ]
          },
          "metadata": {
            "tags": []
          },
          "execution_count": 7
        }
      ]
    },
    {
      "cell_type": "markdown",
      "metadata": {
        "id": "DtAfnmz-O8Zz"
      },
      "source": [
        "#### What is the schema?"
      ]
    },
    {
      "cell_type": "code",
      "metadata": {
        "id": "d6q1-wnJO9wM",
        "colab": {
          "base_uri": "https://localhost:8080/"
        },
        "outputId": "35957e8b-2bd2-4d64-ec82-9c065f20032d"
      },
      "source": [
        "df.printSchema()"
      ],
      "execution_count": null,
      "outputs": [
        {
          "output_type": "stream",
          "text": [
            "root\n",
            " |-- age: integer (nullable = true)\n",
            " |-- name: string (nullable = true)\n",
            "\n"
          ],
          "name": "stdout"
        }
      ]
    },
    {
      "cell_type": "markdown",
      "metadata": {
        "id": "uf1e8v8NPGDR"
      },
      "source": [
        "Show whole DataFrame "
      ]
    },
    {
      "cell_type": "code",
      "metadata": {
        "id": "OTKCp3DkPGdB",
        "colab": {
          "base_uri": "https://localhost:8080/"
        },
        "outputId": "dc28ae18-942a-4549-d4cc-9c5cae7801c1"
      },
      "source": [
        "df.show()"
      ],
      "execution_count": null,
      "outputs": [
        {
          "output_type": "stream",
          "text": [
            "+----+-------+\n",
            "| age|   name|\n",
            "+----+-------+\n",
            "|null|Michael|\n",
            "|  30|   Andy|\n",
            "|  19| Justin|\n",
            "+----+-------+\n",
            "\n"
          ],
          "name": "stdout"
        }
      ]
    },
    {
      "cell_type": "markdown",
      "metadata": {
        "id": "g02HDXuhPRSB"
      },
      "source": [
        "Print out the first 2 rows."
      ]
    },
    {
      "cell_type": "code",
      "metadata": {
        "id": "EjRovtRqPTf6",
        "colab": {
          "base_uri": "https://localhost:8080/"
        },
        "outputId": "5b81d815-4661-4be2-d81f-0fd09a10912d"
      },
      "source": [
        "for row in df.head(2):\n",
        "  print(row)\n",
        "  print('\\n')"
      ],
      "execution_count": null,
      "outputs": [
        {
          "output_type": "stream",
          "text": [
            "Row(age=None, name='Michael')\n",
            "\n",
            "\n",
            "Row(age=30, name='Andy')\n",
            "\n",
            "\n"
          ],
          "name": "stdout"
        }
      ]
    },
    {
      "cell_type": "markdown",
      "metadata": {
        "id": "5GsRKjq4Pb3c"
      },
      "source": [
        "Use describe() to learn about the DataFrame"
      ]
    },
    {
      "cell_type": "code",
      "metadata": {
        "id": "hHCzibjUPdrM",
        "colab": {
          "base_uri": "https://localhost:8080/"
        },
        "outputId": "669384fb-4f03-4a59-c68e-25b974a33a59"
      },
      "source": [
        "df.describe"
      ],
      "execution_count": null,
      "outputs": [
        {
          "output_type": "execute_result",
          "data": {
            "text/plain": [
              "DataFrame[summary: string, age: string, name: string]"
            ]
          },
          "metadata": {
            "tags": []
          },
          "execution_count": 10
        }
      ]
    },
    {
      "cell_type": "markdown",
      "metadata": {
        "id": "EIiSknW9P-5D"
      },
      "source": [
        "Use another data frame to learn about the statistical report"
      ]
    },
    {
      "cell_type": "code",
      "metadata": {
        "id": "MyCnoHfEP8zi",
        "colab": {
          "base_uri": "https://localhost:8080/"
        },
        "outputId": "d5e8ea47-66b9-4bb8-a742-87c4f7d59fc9"
      },
      "source": [
        "temp = df.describe()\n",
        "temp.show()"
      ],
      "execution_count": null,
      "outputs": [
        {
          "output_type": "stream",
          "text": [
            "+-------+------------------+-------+\n",
            "|summary|               age|   name|\n",
            "+-------+------------------+-------+\n",
            "|  count|                 2|      3|\n",
            "|   mean|              24.5|   null|\n",
            "| stddev|7.7781745930520225|   null|\n",
            "|    min|                19|   Andy|\n",
            "|    max|                30|Michael|\n",
            "+-------+------------------+-------+\n",
            "\n"
          ],
          "name": "stdout"
        }
      ]
    },
    {
      "cell_type": "markdown",
      "metadata": {
        "id": "g7p7JJqpPtEk"
      },
      "source": [
        "There are too many decimal places for mean and stddev in the describe() dataframe.   \n",
        "How to deal with it?"
      ]
    },
    {
      "cell_type": "code",
      "metadata": {
        "id": "zHaS2zDCRMMk"
      },
      "source": [
        "from pyspark.sql.functions import format_number"
      ],
      "execution_count": null,
      "outputs": []
    },
    {
      "cell_type": "code",
      "metadata": {
        "id": "E9nidaDmP0Go",
        "colab": {
          "base_uri": "https://localhost:8080/"
        },
        "outputId": "f5c9a057-a7c0-42ea-d985-21e67a013708"
      },
      "source": [
        "result = df.describe()\n",
        "result.select(result['summary'],\n",
        "              format_number(result['age'].cast('float'),2).alias('age')\n",
        "              ).show()"
      ],
      "execution_count": null,
      "outputs": [
        {
          "output_type": "stream",
          "text": [
            "+-------+-----+\n",
            "|summary|  age|\n",
            "+-------+-----+\n",
            "|  count| 2.00|\n",
            "|   mean|24.50|\n",
            "| stddev| 7.78|\n",
            "|    min|19.00|\n",
            "|    max|30.00|\n",
            "+-------+-----+\n",
            "\n"
          ],
          "name": "stdout"
        }
      ]
    },
    {
      "cell_type": "markdown",
      "metadata": {
        "id": "NWFzUNzLRrRc"
      },
      "source": [
        "Get the mean of age directly"
      ]
    },
    {
      "cell_type": "code",
      "metadata": {
        "id": "F7OkBnMZ5bnF",
        "colab": {
          "base_uri": "https://localhost:8080/"
        },
        "outputId": "9fb65db7-7c2f-4092-fc36-d92e9005d89f"
      },
      "source": [
        "from pyspark.sql.functions import mean\n",
        "df.select(mean(\"age\")).show()"
      ],
      "execution_count": null,
      "outputs": [
        {
          "output_type": "stream",
          "text": [
            "+--------+\n",
            "|avg(age)|\n",
            "+--------+\n",
            "|    24.5|\n",
            "+--------+\n",
            "\n"
          ],
          "name": "stdout"
        }
      ]
    },
    {
      "cell_type": "markdown",
      "metadata": {
        "id": "0sZSs0YeSpuS"
      },
      "source": [
        "What is the max and min of the Volume column?"
      ]
    },
    {
      "cell_type": "code",
      "metadata": {
        "id": "YSpUUJaSSrxd",
        "colab": {
          "base_uri": "https://localhost:8080/"
        },
        "outputId": "b6176b93-48dd-4f71-df0f-df9d3f40e42c"
      },
      "source": [
        "from pyspark.sql.functions import max,min\n",
        "df.select(max(\"age\"),min(\"age\")).show()"
      ],
      "execution_count": null,
      "outputs": [
        {
          "output_type": "stream",
          "text": [
            "+--------+--------+\n",
            "|max(age)|min(age)|\n",
            "+--------+--------+\n",
            "|      30|      19|\n",
            "+--------+--------+\n",
            "\n"
          ],
          "name": "stdout"
        }
      ]
    },
    {
      "cell_type": "markdown",
      "metadata": {
        "id": "7E2XNGa_S1iA"
      },
      "source": [
        "How many people whose age smaller than 30?"
      ]
    },
    {
      "cell_type": "code",
      "metadata": {
        "id": "TVsXwce9S1vP",
        "colab": {
          "base_uri": "https://localhost:8080/"
        },
        "outputId": "3316aef5-d0bc-4ce6-97e9-bed90e0a3fda"
      },
      "source": [
        "df.filter(\"age < 30\").count()"
      ],
      "execution_count": null,
      "outputs": [
        {
          "output_type": "execute_result",
          "data": {
            "text/plain": [
              "1"
            ]
          },
          "metadata": {
            "tags": []
          },
          "execution_count": 18
        }
      ]
    },
    {
      "cell_type": "code",
      "metadata": {
        "id": "25qMbjf-TKtH",
        "colab": {
          "base_uri": "https://localhost:8080/"
        },
        "outputId": "b8a9c978-45e1-425c-f019-e8f0926842bf"
      },
      "source": [
        "from pyspark.sql.functions import count\n",
        "result = df.filter(df['age'] < 30)\n",
        "result.select(count('age')).show()"
      ],
      "execution_count": null,
      "outputs": [
        {
          "output_type": "stream",
          "text": [
            "+----------+\n",
            "|count(age)|\n",
            "+----------+\n",
            "|         1|\n",
            "+----------+\n",
            "\n"
          ],
          "name": "stdout"
        }
      ]
    },
    {
      "cell_type": "markdown",
      "metadata": {
        "id": "H05rcM00PH-c"
      },
      "source": [
        "**Check Point - 1 point** \n",
        "\n",
        "How many people whose age larger than 18?"
      ]
    },
    {
      "cell_type": "code",
      "metadata": {
        "id": "1BY73dI1PPsL",
        "colab": {
          "base_uri": "https://localhost:8080/"
        },
        "outputId": "c3b24a12-90ac-47ac-c04d-300e6fe1802f"
      },
      "source": [
        "df.filter(\"age > 18\").count()"
      ],
      "execution_count": null,
      "outputs": [
        {
          "output_type": "execute_result",
          "data": {
            "text/plain": [
              "2"
            ]
          },
          "metadata": {
            "tags": []
          },
          "execution_count": 25
        }
      ]
    }
  ]
}