{
  "nbformat": 4,
  "nbformat_minor": 0,
  "metadata": {
    "kernelspec": {
      "display_name": "Python 3",
      "language": "python",
      "name": "python3"
    },
    "language_info": {
      "codemirror_mode": {
        "name": "ipython",
        "version": 3
      },
      "file_extension": ".py",
      "mimetype": "text/x-python",
      "name": "python",
      "nbconvert_exporter": "python",
      "pygments_lexer": "ipython3",
      "version": "3.8.5"
    },
    "colab": {
      "name": "CCBDA-HW4-309555025.ipynb",
      "provenance": [],
      "collapsed_sections": []
    }
  },
  "cells": [
    {
      "cell_type": "code",
      "metadata": {
        "colab": {
          "base_uri": "https://localhost:8080/"
        },
        "id": "l9G17iUL6y43",
        "outputId": "dc36c1ca-c2d7-45ec-86f9-46ef331771e6"
      },
      "source": [
        "!apt-get -y install openjdk-8-jre-headless\n",
        "!pip install pyspark"
      ],
      "execution_count": 1,
      "outputs": [
        {
          "output_type": "stream",
          "text": [
            "Reading package lists... Done\n",
            "Building dependency tree       \n",
            "Reading state information... Done\n",
            "openjdk-8-jre-headless is already the newest version (8u292-b10-0ubuntu1~18.04).\n",
            "0 upgraded, 0 newly installed, 0 to remove and 39 not upgraded.\n",
            "Requirement already satisfied: pyspark in /usr/local/lib/python3.7/dist-packages (3.1.2)\n",
            "Requirement already satisfied: py4j==0.10.9 in /usr/local/lib/python3.7/dist-packages (from pyspark) (0.10.9)\n"
          ],
          "name": "stdout"
        }
      ]
    },
    {
      "cell_type": "markdown",
      "metadata": {
        "id": "5UepkUEq3pAI"
      },
      "source": [
        "# Do your work here"
      ]
    },
    {
      "cell_type": "code",
      "metadata": {
        "colab": {
          "base_uri": "https://localhost:8080/"
        },
        "id": "fxsvY06lPmJp",
        "outputId": "d9d272e0-046a-47be-ad1b-0743f56df8a4"
      },
      "source": [
        "import pyspark\n",
        "from pyspark.sql import SparkSession\n",
        "spark = SparkSession.builder.appName(\"Churn_Modeling\").getOrCreate()\n",
        "df = spark.read.csv('public.csv',header=True,inferSchema=True)\n",
        "df.printSchema()\n",
        "### make features/label\n",
        "from pyspark.ml.feature import OneHotEncoder, StringIndexer, VectorAssembler\n",
        "categoricalColumns = ['Geography', 'Gender','NumOfProducts', 'HasCrCard','IsActiveMember']\n",
        "stages = []\n",
        "for categoricalCol in categoricalColumns:\n",
        "    stringIndexer = StringIndexer(inputCol = categoricalCol, outputCol = categoricalCol + 'Index')\n",
        "    encoder = OneHotEncoder(inputCols=[stringIndexer.getOutputCol()], outputCols=[categoricalCol + \"classVec\"])\n",
        "    stages += [stringIndexer, encoder]\n",
        "\n",
        "label_stringIdx = StringIndexer(inputCol = 'Exited', outputCol = 'label').setHandleInvalid(\"keep\")\n",
        "stages += [label_stringIdx]\n",
        "numericCols = ['CreditScore', 'Age', 'Tenure', 'Balance','EstimatedSalary']\n",
        "assemblerInputs = [c + \"classVec\" for c in categoricalColumns] + numericCols\n",
        "assembler = VectorAssembler(inputCols=assemblerInputs, outputCol=\"features\").setHandleInvalid(\"keep\")\n",
        "stages += [assembler]\n",
        "\n",
        "### pipeline\n",
        "from pyspark.ml import Pipeline\n",
        "pipeline = Pipeline(stages = stages)\n",
        "pipelineModel = pipeline.fit(df)\n",
        "df2 = pipelineModel.transform(df)\n",
        "selectedCols = ['label', 'features','CustomerID','Exited'] + categoricalColumns + numericCols\n",
        "df2 = df2.select(selectedCols)\n",
        "df2.printSchema()\n",
        "\n",
        "### split training & test dataset\n",
        "train, test = df2.randomSplit([0.7, 0.3], seed = 2021)\n",
        "print(\"Training Dataset Count: \" + str(train.count()))\n",
        "print(\"Test Dataset Count: \" + str(test.count()))\n",
        "\n",
        "### Gradient-Boosted Tree Classifier\n",
        "from pyspark.ml.classification import GBTClassifier\n",
        "gbt = GBTClassifier(maxIter=64)\n",
        "model = gbt.fit(train)\n",
        "\n",
        "### Make prediction\n",
        "predictions = model.transform(test)\n",
        "predictions.printSchema()\n",
        "predictions.select('CustomerId','Exited','prediction').show(10)\n",
        "\n",
        "### Test\n",
        "from pyspark.ml.evaluation import BinaryClassificationEvaluator\n",
        "evaluator = BinaryClassificationEvaluator()\n",
        "print(\"Test Area Under ROC: \" + str(evaluator.evaluate(predictions, {evaluator.metricName: \"areaUnderROC\"})))\n",
        "\n",
        "### F1-score\n",
        "from sklearn import metrics\n",
        "import numpy as np\n",
        "data_array =  np.array(test.select('Exited').collect())\n",
        "data_pred = np.array(predictions.select('prediction').collect())\n",
        "f1_score = metrics.f1_score(data_array,data_pred, average='micro') \n",
        "print('F1 score:',f1_score)"
      ],
      "execution_count": 2,
      "outputs": [
        {
          "output_type": "stream",
          "text": [
            "root\n",
            " |-- CustomerId: integer (nullable = true)\n",
            " |-- Surname: string (nullable = true)\n",
            " |-- CreditScore: integer (nullable = true)\n",
            " |-- Geography: string (nullable = true)\n",
            " |-- Gender: string (nullable = true)\n",
            " |-- Age: integer (nullable = true)\n",
            " |-- Tenure: integer (nullable = true)\n",
            " |-- Balance: double (nullable = true)\n",
            " |-- NumOfProducts: integer (nullable = true)\n",
            " |-- HasCrCard: integer (nullable = true)\n",
            " |-- IsActiveMember: integer (nullable = true)\n",
            " |-- EstimatedSalary: double (nullable = true)\n",
            " |-- Exited: integer (nullable = true)\n",
            "\n",
            "root\n",
            " |-- label: double (nullable = false)\n",
            " |-- features: vector (nullable = true)\n",
            " |-- CustomerID: integer (nullable = true)\n",
            " |-- Exited: integer (nullable = true)\n",
            " |-- Geography: string (nullable = true)\n",
            " |-- Gender: string (nullable = true)\n",
            " |-- NumOfProducts: integer (nullable = true)\n",
            " |-- HasCrCard: integer (nullable = true)\n",
            " |-- IsActiveMember: integer (nullable = true)\n",
            " |-- CreditScore: integer (nullable = true)\n",
            " |-- Age: integer (nullable = true)\n",
            " |-- Tenure: integer (nullable = true)\n",
            " |-- Balance: double (nullable = true)\n",
            " |-- EstimatedSalary: double (nullable = true)\n",
            "\n",
            "Training Dataset Count: 5610\n",
            "Test Dataset Count: 2390\n",
            "root\n",
            " |-- label: double (nullable = false)\n",
            " |-- features: vector (nullable = true)\n",
            " |-- CustomerID: integer (nullable = true)\n",
            " |-- Exited: integer (nullable = true)\n",
            " |-- Geography: string (nullable = true)\n",
            " |-- Gender: string (nullable = true)\n",
            " |-- NumOfProducts: integer (nullable = true)\n",
            " |-- HasCrCard: integer (nullable = true)\n",
            " |-- IsActiveMember: integer (nullable = true)\n",
            " |-- CreditScore: integer (nullable = true)\n",
            " |-- Age: integer (nullable = true)\n",
            " |-- Tenure: integer (nullable = true)\n",
            " |-- Balance: double (nullable = true)\n",
            " |-- EstimatedSalary: double (nullable = true)\n",
            " |-- rawPrediction: vector (nullable = true)\n",
            " |-- probability: vector (nullable = true)\n",
            " |-- prediction: double (nullable = false)\n",
            "\n",
            "+----------+------+----------+\n",
            "|CustomerId|Exited|prediction|\n",
            "+----------+------+----------+\n",
            "|  15600710|     0|       0.0|\n",
            "|  15641110|     0|       0.0|\n",
            "|  15805671|     0|       0.0|\n",
            "|  15577970|     0|       0.0|\n",
            "|  15755722|     0|       0.0|\n",
            "|  15621267|     0|       0.0|\n",
            "|  15624729|     0|       0.0|\n",
            "|  15661007|     0|       0.0|\n",
            "|  15715939|     0|       0.0|\n",
            "|  15784301|     0|       0.0|\n",
            "+----------+------+----------+\n",
            "only showing top 10 rows\n",
            "\n",
            "Test Area Under ROC: 0.8613187974633975\n",
            "F1 score: 0.8652719665271966\n"
          ],
          "name": "stdout"
        }
      ]
    },
    {
      "cell_type": "markdown",
      "metadata": {
        "id": "UmEtPTKg3pAK"
      },
      "source": [
        "# Evaluation Part"
      ]
    },
    {
      "cell_type": "markdown",
      "metadata": {
        "id": "rw_lEV_V3pAL"
      },
      "source": [
        "## Load private dataset, the same structure as public dataset"
      ]
    },
    {
      "cell_type": "code",
      "metadata": {
        "id": "v6Wv14ir3pAM",
        "colab": {
          "base_uri": "https://localhost:8080/"
        },
        "outputId": "f2d1c5df-d22c-4d97-f3ac-d03255d13112"
      },
      "source": [
        "df_private = spark.read.csv('private.csv',header=True,inferSchema=True)  # TA takes public dataset as example\n",
        "df_private.printSchema()"
      ],
      "execution_count": 3,
      "outputs": [
        {
          "output_type": "stream",
          "text": [
            "root\n",
            " |-- CustomerId: integer (nullable = true)\n",
            " |-- Surname: string (nullable = true)\n",
            " |-- CreditScore: integer (nullable = true)\n",
            " |-- Geography: string (nullable = true)\n",
            " |-- Gender: string (nullable = true)\n",
            " |-- Age: integer (nullable = true)\n",
            " |-- Tenure: integer (nullable = true)\n",
            " |-- Balance: double (nullable = true)\n",
            " |-- NumOfProducts: integer (nullable = true)\n",
            " |-- HasCrCard: integer (nullable = true)\n",
            " |-- IsActiveMember: integer (nullable = true)\n",
            " |-- EstimatedSalary: double (nullable = true)\n",
            " |-- Exited: integer (nullable = true)\n",
            "\n"
          ],
          "name": "stdout"
        }
      ]
    },
    {
      "cell_type": "markdown",
      "metadata": {
        "id": "b2p23rH73pAM"
      },
      "source": [
        "## Do prediction with your PySpark model here"
      ]
    },
    {
      "cell_type": "code",
      "metadata": {
        "id": "F61xyZjU3pAW",
        "colab": {
          "base_uri": "https://localhost:8080/"
        },
        "outputId": "4f1c6d0e-760f-4661-e9a6-f32456fcfc54"
      },
      "source": [
        "### pipeline\n",
        "pipeline = Pipeline(stages = stages)\n",
        "pipelineModel = pipeline.fit(df_private)\n",
        "df_private2 = pipelineModel.transform(df_private)\n",
        "selectedCols = ['label', 'features','CustomerID','Exited'] + categoricalColumns + numericCols\n",
        "df_private2 = df_private2.select(selectedCols)\n",
        "df_private2.printSchema()\n",
        "\n",
        "\n",
        "### Make prediction\n",
        "predictions = model.transform(df_private2)\n",
        "predictions.printSchema()"
      ],
      "execution_count": 4,
      "outputs": [
        {
          "output_type": "stream",
          "text": [
            "root\n",
            " |-- label: double (nullable = false)\n",
            " |-- features: vector (nullable = true)\n",
            " |-- CustomerID: integer (nullable = true)\n",
            " |-- Exited: integer (nullable = true)\n",
            " |-- Geography: string (nullable = true)\n",
            " |-- Gender: string (nullable = true)\n",
            " |-- NumOfProducts: integer (nullable = true)\n",
            " |-- HasCrCard: integer (nullable = true)\n",
            " |-- IsActiveMember: integer (nullable = true)\n",
            " |-- CreditScore: integer (nullable = true)\n",
            " |-- Age: integer (nullable = true)\n",
            " |-- Tenure: integer (nullable = true)\n",
            " |-- Balance: double (nullable = true)\n",
            " |-- EstimatedSalary: double (nullable = true)\n",
            "\n",
            "root\n",
            " |-- label: double (nullable = false)\n",
            " |-- features: vector (nullable = true)\n",
            " |-- CustomerID: integer (nullable = true)\n",
            " |-- Exited: integer (nullable = true)\n",
            " |-- Geography: string (nullable = true)\n",
            " |-- Gender: string (nullable = true)\n",
            " |-- NumOfProducts: integer (nullable = true)\n",
            " |-- HasCrCard: integer (nullable = true)\n",
            " |-- IsActiveMember: integer (nullable = true)\n",
            " |-- CreditScore: integer (nullable = true)\n",
            " |-- Age: integer (nullable = true)\n",
            " |-- Tenure: integer (nullable = true)\n",
            " |-- Balance: double (nullable = true)\n",
            " |-- EstimatedSalary: double (nullable = true)\n",
            " |-- rawPrediction: vector (nullable = true)\n",
            " |-- probability: vector (nullable = true)\n",
            " |-- prediction: double (nullable = false)\n",
            "\n"
          ],
          "name": "stdout"
        }
      ]
    },
    {
      "cell_type": "markdown",
      "metadata": {
        "id": "ZWy6t06T3pAX"
      },
      "source": [
        "## Print Your result as the following type"
      ]
    },
    {
      "cell_type": "code",
      "metadata": {
        "id": "eKSGnwF_3pAX",
        "colab": {
          "base_uri": "https://localhost:8080/"
        },
        "outputId": "e2ec5ccc-c1d4-43f1-f865-814bcaca797e"
      },
      "source": [
        "predictions.select('CustomerId','prediction').show(5)"
      ],
      "execution_count": 5,
      "outputs": [
        {
          "output_type": "stream",
          "text": [
            "+----------+----------+\n",
            "|CustomerId|prediction|\n",
            "+----------+----------+\n",
            "|  15565714|       0.0|\n",
            "|  15565779|       0.0|\n",
            "|  15565891|       0.0|\n",
            "|  15566156|       0.0|\n",
            "|  15566211|       0.0|\n",
            "+----------+----------+\n",
            "only showing top 5 rows\n",
            "\n"
          ],
          "name": "stdout"
        }
      ]
    },
    {
      "cell_type": "markdown",
      "metadata": {
        "id": "93-y0EkI3pAZ"
      },
      "source": [
        "## TA will use the following function to get your prediction result (f-1 score)"
      ]
    },
    {
      "cell_type": "code",
      "metadata": {
        "id": "nUpel0hw3pAe",
        "colab": {
          "base_uri": "https://localhost:8080/"
        },
        "outputId": "22f15f82-fcd9-4df8-c1ee-2ea88f1347fa"
      },
      "source": [
        "from sklearn import metrics\n",
        "import numpy as np\n",
        "data_array =  np.array(df_private.select('Exited').collect())\n",
        "data_pred = np.array(predictions.select('prediction').collect())\n",
        "metrics.f1_score(data_array,data_pred, average='micro')  "
      ],
      "execution_count": 6,
      "outputs": [
        {
          "output_type": "execute_result",
          "data": {
            "text/plain": [
              "0.8575"
            ]
          },
          "metadata": {
            "tags": []
          },
          "execution_count": 6
        }
      ]
    }
  ]
}